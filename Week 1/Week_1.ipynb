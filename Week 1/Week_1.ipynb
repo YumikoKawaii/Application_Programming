{
 "cells": [
  {
   "cell_type": "code",
   "execution_count": 1,
   "metadata": {},
   "outputs": [],
   "source": [
    "import math\n",
    "import re"
   ]
  },
  {
   "attachments": {},
   "cell_type": "markdown",
   "metadata": {},
   "source": [
    "Compute greatest common divisor using euclidean algorithm "
   ]
  },
  {
   "cell_type": "code",
   "execution_count": null,
   "metadata": {},
   "outputs": [],
   "source": [
    "def gcd(a, b):\n",
    "    if b == 0:\n",
    "        return a\n",
    "    else:\n",
    "        return gcd(b,a%b)\n",
    "\n",
    "print(gcd(3, 4))"
   ]
  },
  {
   "attachments": {},
   "cell_type": "markdown",
   "metadata": {},
   "source": [
    "Compute least common multiple using gcd"
   ]
  },
  {
   "cell_type": "code",
   "execution_count": null,
   "metadata": {},
   "outputs": [],
   "source": [
    "def lcm(a, b):\n",
    "    return a*b/gcd(a, b)\n",
    "\n",
    "print(lcm(3, 4))"
   ]
  },
  {
   "attachments": {},
   "cell_type": "markdown",
   "metadata": {},
   "source": [
    "Compute fibonacci number using recursion"
   ]
  },
  {
   "cell_type": "code",
   "execution_count": null,
   "metadata": {},
   "outputs": [],
   "source": [
    "def fibonaci(n):\n",
    "    if n <= 1:\n",
    "        return 1\n",
    "    else:\n",
    "        return fibonaci(n - 1) + fibonaci(n - 2)\n",
    "\n",
    "print(fibonaci(5))    "
   ]
  },
  {
   "cell_type": "markdown",
   "metadata": {},
   "source": [
    "Print prime number less than or equal to given input"
   ]
  },
  {
   "cell_type": "code",
   "execution_count": null,
   "metadata": {},
   "outputs": [],
   "source": [
    "def isPrime(n):\n",
    "    for i in range(2, int(math.sqrt(n)) + 1):\n",
    "        if n%i == 0:            \n",
    "            return False\n",
    "    return True\n",
    "\n",
    "def printPrime(n):\n",
    "    for i in range(2, n):\n",
    "        if isPrime(i):\n",
    "            print(\"%d \" %i)\n",
    "\n",
    "printPrime(10)"
   ]
  },
  {
   "cell_type": "markdown",
   "metadata": {},
   "source": [
    "Compute fraction using recursion"
   ]
  },
  {
   "cell_type": "code",
   "execution_count": null,
   "metadata": {},
   "outputs": [],
   "source": [
    "def fraction_rec(n):\n",
    "    if n <= 1:\n",
    "        return 1\n",
    "    else:\n",
    "        return fraction_rec(n - 1)*n\n",
    "\n",
    "print(fraction_rec(10))"
   ]
  },
  {
   "cell_type": "markdown",
   "metadata": {},
   "source": [
    "Compute fraction using loop"
   ]
  },
  {
   "cell_type": "code",
   "execution_count": null,
   "metadata": {},
   "outputs": [],
   "source": [
    "def fraction_loop(n):\n",
    "    result = 1\n",
    "    for i in range(2, n + 1):\n",
    "        result *= i\n",
    "    \n",
    "    return result\n",
    "\n",
    "print(fraction_loop(10))"
   ]
  },
  {
   "cell_type": "markdown",
   "metadata": {},
   "source": [
    "Verify password"
   ]
  },
  {
   "cell_type": "code",
   "execution_count": null,
   "metadata": {},
   "outputs": [],
   "source": [
    "def isStrongPassword(password):\n",
    "    if len(password) < 8:\n",
    "        return \"Password is too short!\"\n",
    "        \n",
    "    lowercase = 0\n",
    "    uppercase = 0\n",
    "    number = 0\n",
    "    special = 0\n",
    "\n",
    "    for i in password:\n",
    "        if i.isdigit():\n",
    "            number += 1            \n",
    "        elif i.isupper():\n",
    "            uppercase += 1        \n",
    "        elif i.islower():\n",
    "            lowercase += 1\n",
    "        else:\n",
    "            special += 1\n",
    "        \n",
    "    if number == 0:\n",
    "        return \"Missing number character!\"\n",
    "    if lowercase == 0:\n",
    "        return \"Missing lowercase character!\"\n",
    "    if uppercase == 0:\n",
    "        return \"Missing uppercase character!\"\n",
    "    if special == 0:\n",
    "        return \"Missing special character!\"\n",
    "    \n",
    "    return \"Good password!\"\n",
    "\n",
    "isStrongPassword(\"Yumiko1@\")"
   ]
  },
  {
   "attachments": {},
   "cell_type": "markdown",
   "metadata": {},
   "source": [
    "Histogram Count"
   ]
  },
  {
   "cell_type": "code",
   "execution_count": null,
   "metadata": {},
   "outputs": [],
   "source": [
    "def histogramCount(para):\n",
    "\n",
    "    #remove all special character\n",
    "    para = re.sub('[^A-Za-z0-9 ]+', \"\", para)\n",
    "\n",
    "    #lowercase paragraph\n",
    "    para = para.lower()\n",
    "\n",
    "    #split paragraph by space\n",
    "    words = para.split(\" \")\n",
    "\n",
    "    #create an unique set of words\n",
    "    unique = set(words)\n",
    "\n",
    "    #create an empty dictionary\n",
    "    result = {}    \n",
    "\n",
    "    #add word-wordcount to dictionary\n",
    "    for i in unique:    \n",
    "        result[i] = words.count(i)\n",
    "\n",
    "    #print(result)\n",
    "\n",
    "    return result\n",
    "\n",
    "\n",
    "para = input()\n",
    "histogramCount(para)"
   ]
  }
 ],
 "metadata": {
  "kernelspec": {
   "display_name": "Python 3",
   "language": "python",
   "name": "python3"
  },
  "language_info": {
   "codemirror_mode": {
    "name": "ipython",
    "version": 3
   },
   "file_extension": ".py",
   "mimetype": "text/x-python",
   "name": "python",
   "nbconvert_exporter": "python",
   "pygments_lexer": "ipython3",
   "version": "3.10.9 (tags/v3.10.9:1dd9be6, Dec  6 2022, 20:01:21) [MSC v.1934 64 bit (AMD64)]"
  },
  "orig_nbformat": 4,
  "vscode": {
   "interpreter": {
    "hash": "ba607cf910366f184c99f201f861b8487b5ac461a3c0857f7b17fa2127570994"
   }
  }
 },
 "nbformat": 4,
 "nbformat_minor": 2
}
