{
 "cells": [
  {
   "cell_type": "code",
   "execution_count": 1,
   "metadata": {},
   "outputs": [],
   "source": [
    "import pandas as pd\n",
    "import nltk\n",
    "from nltk.corpus import stopwords\n",
    "import re\n",
    "import csv"
   ]
  },
  {
   "attachments": {},
   "cell_type": "markdown",
   "metadata": {},
   "source": [
    "Get raw data from sample file"
   ]
  },
  {
   "cell_type": "code",
   "execution_count": 2,
   "metadata": {},
   "outputs": [],
   "source": [
    "raw_data = pd.read_table('../Docs/reviewlytics-master/resources/data/sample_us.tsv')"
   ]
  },
  {
   "attachments": {},
   "cell_type": "markdown",
   "metadata": {},
   "source": [
    "Get review data"
   ]
  },
  {
   "cell_type": "code",
   "execution_count": 3,
   "metadata": {},
   "outputs": [
    {
     "name": "stdout",
     "output_type": "stream",
     "text": [
      "0                                          Excellent!!!\n",
      "1     Great quality wooden track (better than some o...\n",
      "2                     Cards are not as big as pictured.\n",
      "3     my daughter loved it and i liked the price and...\n",
      "4     Do not buy these! They break very fast I spun ...\n",
      "5     Great item. Pictures pop thru and add detail a...\n",
      "6             To keep together, had to use crazy  glue.\n",
      "7                       I was pleased with the product.\n",
      "8                                      Children like it\n",
      "9     Showed up not how it's shown . Was someone's o...\n",
      "10    Really liked these. They were a little larger ...\n",
      "11    Nice huge balloon! Had my local grocery store ...\n",
      "12                                           Great deal\n",
      "13                                        As Advertised\n",
      "14    Comes w a 15$ servo so expect to spend 150 mor...\n",
      "15                                    awesome ! Thanks!\n",
      "16    I got this item for me and my son to play arou...\n",
      "17    It was a birthday present for my grandson and ...\n",
      "18    Got a wrong product from Amazon Vine and unabl...\n",
      "19    You need expansion packs 3-5 if you want acces...\n",
      "20    Awesome customer service and a cool little dro...\n",
      "21    I got these for my daughters for plane trip. I...\n",
      "22    My girlfriend and I are both into yoga and I g...\n",
      "23    i like it but i absoloutely hate that some dol...\n",
      "24    We have MANY Wow toys in our home.  We love ho...\n",
      "25                                          Tons of fun\n",
      "26                       Love it great add to collecton\n",
      "27        Exactly as described.  Fits my 7-yr old well!\n",
      "28    Purchased these Lego's to help aid me with tea...\n",
      "29    IT's OK, but not as good as the old Bite Meez ...\n",
      "30    This was to be a gift for my husband for our n...\n",
      "31    Ended up sending this guy back because I didnt...\n",
      "32         The product is good, but the box was broken.\n",
      "33    Works well ,quality product but this style of ...\n",
      "34                                          Great gift!\n",
      "35          We play this game quite a bit with friends.\n",
      "36                          Fits my $20 bill perfectly.\n",
      "37    I ordered these for my 3 year old son's birthd...\n",
      "38    These paper lanterns are adorable! The colors ...\n",
      "39            My Grandson loves these cards.  Thank you\n",
      "40    Received a pineapple rather than the advertise...\n",
      "41                               Christmas gift for 6yr\n",
      "42            My Grandson loves these cards.  Thank you\n",
      "43    Even though both of my kids are at the top of ...\n",
      "44                        My 5 year old son loves this.\n",
      "45                                              love it\n",
      "46    Absolutely one of the best traps in the game. ...\n",
      "47                                 really soft and cute\n",
      "48          baby loved it - so attractive and very nice\n",
      "Name: review_body, dtype: object\n"
     ]
    }
   ],
   "source": [
    "reviews_data = raw_data['review_body']\n",
    "print(reviews_data)"
   ]
  },
  {
   "attachments": {},
   "cell_type": "markdown",
   "metadata": {},
   "source": [
    "Get stop words from nltk"
   ]
  },
  {
   "cell_type": "code",
   "execution_count": 4,
   "metadata": {},
   "outputs": [
    {
     "name": "stdout",
     "output_type": "stream",
     "text": [
      "{'who', 'most', 'ourselves', 'not', 'only', 'under', \"weren't\", 'with', 'but', 'i', 'your', 'whom', 'what', \"she's\", 'further', 'up', 'before', 'it', \"should've\", 'hadn', 'against', 'again', 'having', 'more', 'ma', 'my', 'any', 'just', 'yours', 'same', \"you've\", 'because', 'wasn', \"wasn't\", 'doesn', 'y', 'is', 'doing', 'have', \"aren't\", 'was', 'll', 'own', 'be', 'or', 'a', \"needn't\", 'this', \"you'd\", 'she', 'below', 'hers', \"didn't\", 'theirs', 'by', 'such', 'other', 'am', \"isn't\", 'both', \"hasn't\", 'into', 'these', 'out', 'shouldn', 'which', 'for', 'of', 'than', 'hasn', 'won', 'should', 'through', 'few', 'he', 'during', 've', \"it's\", 'so', 'herself', \"you're\", 'if', 'couldn', 'weren', 'off', 'at', 'themselves', 'down', 'then', 'them', 'o', 'that', 'her', 'as', 'mustn', 'do', \"wouldn't\", 'myself', 'each', 'him', 'his', 'now', 'until', \"couldn't\", 'after', 'will', 'needn', 'didn', 'on', 'how', 'too', \"won't\", \"shouldn't\", 'isn', \"hadn't\", 'when', 'those', 't', 'me', \"doesn't\", 'does', 'no', \"that'll\", \"shan't\", \"don't\", 'to', 'we', 'has', 'itself', 'd', 'aren', 'all', 'don', 'you', 'mightn', 'why', 'nor', \"mightn't\", 'ain', 'wouldn', 'himself', 's', 'about', 'their', 'did', 'its', 'between', 'been', 'where', 'had', 'm', \"haven't\", 're', \"mustn't\", 'in', 'here', 'haven', 'they', 'ours', \"you'll\", 'yourself', 'yourselves', 'the', 'being', 'some', 'there', 'our', 'and', 'an', 'from', 'very', 'shan', 'above', 'were', 'can', 'once', 'over', 'while', 'are'}\n"
     ]
    },
    {
     "name": "stderr",
     "output_type": "stream",
     "text": [
      "[nltk_data] Downloading package stopwords to C:\\Users\\Yumiko\n",
      "[nltk_data]     Sturluson\\AppData\\Roaming\\nltk_data...\n",
      "[nltk_data]   Package stopwords is already up-to-date!\n"
     ]
    }
   ],
   "source": [
    "nltk.download('stopwords')\n",
    "stop_words = set(stopwords.words('english'))\n",
    "print(stop_words)"
   ]
  },
  {
   "attachments": {},
   "cell_type": "markdown",
   "metadata": {},
   "source": [
    "Find keywords"
   ]
  },
  {
   "cell_type": "code",
   "execution_count": 5,
   "metadata": {},
   "outputs": [
    {
     "name": "stdout",
     "output_type": "stream",
     "text": [
      "['tee', 'without', 'remember', 'exploded', 'brands', 'camera', 'friends', 'amazon', 'victory', 'comes', 'loves', 'prevent', 'together', 'came', 'style', 'huge', 'want', 'cheaper', 'list', 'thru', 'makes', 'bites', 'liked', 'guy', 'work', 'used', 'stickers', 'grandson', 'yrmy', 'son', 'bots', 'collectonexactly', 'longer', 'recommendation', 'br', 'help', 'since', 'hopefully', 'everyday', 'birthday', 'loved', 'green', 'divided', 'total', 'month', 'concern', 'girlfriend', 'controller', 'meltdown', 'tried', 'local', 'cutebaby', 'game', 'kept', 'plane', 'people', 'home', 'almost', 'men', 'match', 'true', 'brilliant', 'mesh', 'really', 'lipo', 'stand', 'ton', 'splits', 'bought', 'set', 'overlap', 'flew', 'described', 'pulled', 'short', 'good', 'ready', 'expansion', 'able', 'especially', 'markers', 'animals', 'bodies', 'shunned', 'exception', 'past', 'itthe', 'may', 'clearance', 'creative', 'hate', 'small', 'weighing', 'end', 'kinesthetic', 'helped', 'trained', 'playing', 'glue', 'continuously', 'often', 'pop', 'hands', 'due', 'enough', 'charge', 'little', 'letters', 'drones', 'meez', 'needed', 'along', 'colatteral', 'limited', 'balls', 'balloon', 'vs', 'incorporating', 'didnt', 'already', 'fair', 'take', 'w', 'time', 'non', 'gloves', 'recommend', 'going', 'rate', 'apart', 'size', 'pool', 'individual', 'thing', 'knock', 'kids', 'easy', 'packs', 'baseball', 'completely', 'sloppy', 'fits', 'lessons', 'pictures', 'provide', 'traps', 'close', 'pouch', 'seem', 'player', 'got', 'absoloutely', 'toys', 'fly', 'daughter', 'base', 'bin', 'petwe', 'wow', 'glad', 'thanks', 'well', 'level', 'gift', 'hang', 'daughters', 'shop', 'itshowed', 'batting', 'much', 'customer', 'equally', 'getting', 'impressed', 'vine', 'present', 'safely', 'least', 'packaged', 'received', 'service', 'also', 'durable', 'controls', 'properly', 'forbidden', 'zipper', 'something', 'thinner', 'alternatives', 'larger', 'path', 'part', 'aid', 'key', 'ball', 'color', 'vintages', 'high', 'read', 'fun', 'someone', 'cell', 'closest', 'joes', 'etc', 'thought', 'yards', 'funlove', 'ordered', 'shredded', 'required', 'grabbed', 'broken', 'room', 'track', 'one', 'stoked', 'price', 'would', 'poi', 'yr', 'dolls', 'advertisedcomes', 'disclaimer', 'attached', 'factions', 'however', 'made', 'dry', 'play', 'repainted', 'smoother', 'flatten', 'certain', 'chargers', 'found', 'instead', 'def', 'yoga', 'understand', 'youreceived', 'fee', 'tricky', 'love', 'excited', 'options', 'expect', 'shown', 'pieces', 'window', 'use', 'keep', 'items', 'pets', 'girls', 'spend', 'expecting', 'itabsolutely', 'box', 'pictured', 'expeienced', 'puppet', 'silent', 'trip', 'material', 'dead', 'party', 'though', 'must', 'youeven', 'sounds', 'move', 'minutes', 'way', 'paint', 'thin', 'fast', 'minimise', 'sunday', 'thomas', 'battery', 'shopping', 'loops', 'needless', 'bite', 'string', 'weight', 'cost', 'alien', 'husband', 'soft', 'wooden', 'rc', 'plays', 'adorable', 'snobs', 'army', 'excellent', 'snap', 'receive', 'starts', 'paper', 'feel', 'pigeonhole', 'sometimes', 'paid', 'inflatable', 'composition', 'concept', 'two', 'count', 'waste', 'coloring', 'new', 'like', 'jobs', 'fell', 'toy', 'wonderland', 'unable', 'calendar', 'monitoring', 'realized', 'thank', 'board', 'awayawesome', 'big', 'process', 'line', 'wrong', 'batteries', 'patterns', 'fan', 'adding', 'aids', 'tested', 'assemble', 'stop', 'detail', 'disappointing', 'class', 'frontiers', 'purchased', 'uneven', 'year', 'access', 'fill', 'generic', 'ended', 'cracks', 'halloween', 'somewhere', 'asking', 'around', 'even', 'store', 'ok', 'outside', 'multiple', 'charging', 'funds', 'caters', 'school', 'lot', 'gave', 'connected', 'works', 'puppets', 'voltages', 'shapes', 'stuffing', 'delight', 'quite', 'cool', 'dealas', 'first', 'degree', 'advertised', 'always', 'top', 'servo', 'town', 'attractive', 'look', 'cards', 'colors', 'halloweens', 'winter', 'barn', 'absolutely', 'yorkie', 'fit', 'half', 'letter', 'power', 'using', 'many', 'old', 'morechristmas', 'tons', 'sync', 'discount', 'stock', 'batteies', 'buy', 'need', 'age', 'body', 'live', 'bit', 'decor', 'get', 'real', 'rather', 'lifepoints', 'personally', 'away', 'lanterns', 'bends', 'nice', 'saw', 'hit', 'takes', 'awesome', 'relevance', 'plastic', 'side', 'damage', 'equal', 'money', 'lego', 'crazy', 'preferred', 'children', 'soon', 'breaks', 'opperunity', 'right', 'break', 'spun', 'rest', 'story', 'discharge', 'others', 'instructions', 'main', 'pineapple', 'sending', 'seen', 'shape', 'grocery', 'unbiased', 'favors', 'product', 'poorly', 'likely', 'item', 'great', 'head', 'teamwork', 'bill', 'learner', 'say', 'issue', 'definitely', 'plus', 'teaching', 'cute', 'nimh', 'painted', 'review', 'pay', 'finish', 'twenty', 'existant', 'immediately', 'pleased', 'bright', 'totally', 'drone', 'voltage', 'still', 'know', 'brother', 'face', 'purchase', 'add', 'sure', 'quality', 'range', 'perfect', 'obvious', 'see', 'perfectly', 'back', 'advent', 'brand', 'never', 'pair', 'trendy', 'boys', 'best', 'card', 'wish', 'cheap', 'worth', 'stored', 'maybe', 'yrs', 'various', 'better']\n"
     ]
    }
   ],
   "source": [
    "def clean_data(data):\n",
    "\n",
    "    rev_comb = \"\"\n",
    "    for r in data:\n",
    "        rev_comb += r\n",
    "\n",
    "    #lowercase data\n",
    "    rev_comb = rev_comb.lower()\n",
    "\n",
    "    #remove all special character\n",
    "    rev_comb = re.sub('[^a-z ]+', \" \", rev_comb)\n",
    "    rev_comb = re.sub(' +', \" \", rev_comb)\n",
    "\n",
    "    #split words by space\n",
    "    words = rev_comb.split(\" \")\n",
    "\n",
    "    result = set(words)\n",
    "\n",
    "    return result\n",
    "\n",
    "def remove_stopwords(data):\n",
    "\n",
    "    result = []\n",
    "    for w in data:\n",
    "        if w not in stop_words:\n",
    "            result.append(w)\n",
    "    return result\n",
    "\n",
    "wordset = clean_data(reviews_data)\n",
    "\n",
    "keywords = remove_stopwords(wordset)\n",
    "\n",
    "print(keywords)\n"
   ]
  },
  {
   "attachments": {},
   "cell_type": "markdown",
   "metadata": {},
   "source": [
    "Create frequency vector"
   ]
  },
  {
   "cell_type": "code",
   "execution_count": 6,
   "metadata": {},
   "outputs": [
    {
     "name": "stdout",
     "output_type": "stream",
     "text": [
      "[0, 0, 0, 0, 0, 0, 0, 0, 0, 0, 0, 0, 0, 0, 0, 0, 0, 0, 0, 0, 0, 0, 0, 0, 0, 0, 0, 0, 0, 0, 0, 0, 0, 0, 0, 0, 0, 0, 0, 0, 0, 0, 0, 0, 0, 0, 0, 0, 0, 0, 0, 0, 0, 0, 0, 0, 0, 0, 0, 0, 0, 0, 0, 0, 0, 0, 0, 0, 0, 0, 0, 0, 0, 0, 0, 0, 0, 0, 0, 1, 0, 0, 0, 0, 0, 0, 0, 0, 0, 0, 0, 0, 0, 0, 0, 0, 0, 0, 0, 0, 0, 0, 0, 0, 0, 0, 1, 0, 0, 0, 0, 0, 0, 0, 0, 0, 0, 0, 0, 0, 0, 0, 0, 0, 0, 0, 0, 0, 0, 0, 0, 0, 0, 0, 0, 0, 0, 0, 0, 0, 0, 0, 0, 0, 0, 0, 0, 0, 0, 0, 0, 0, 0, 0, 0, 0, 0, 0, 0, 0, 0, 0, 0, 0, 0, 0, 0, 0, 0, 0, 1, 0, 0, 0, 0, 0, 0, 0, 0, 0, 1, 0, 0, 0, 0, 0, 0, 0, 0, 0, 0, 0, 0, 0, 0, 0, 0, 0, 0, 0, 0, 0, 0, 0, 0, 0, 0, 0, 0, 0, 0, 0, 0, 0, 0, 0, 0, 0, 1, 0, 0, 0, 0, 0, 0, 0, 0, 0, 0, 0, 0, 0, 0, 0, 0, 0, 0, 0, 0, 0, 0, 0, 0, 0, 0, 0, 0, 0, 0, 0, 0, 0, 0, 0, 0, 0, 0, 0, 0, 0, 0, 0, 0, 0, 0, 0, 0, 0, 0, 0, 0, 0, 0, 0, 0, 0, 0, 0, 0, 0, 0, 0, 0, 0, 0, 0, 0, 0, 0, 0, 0, 0, 0, 0, 0, 0, 0, 0, 0, 0, 0, 0, 0, 0, 0, 0, 0, 0, 0, 0, 0, 0, 0, 0, 0, 0, 0, 0, 0, 0, 0, 0, 0, 0, 0, 0, 0, 0, 0, 0, 0, 0, 0, 0, 0, 0, 0, 0, 0, 0, 0, 0, 0, 0, 0, 0, 0, 0, 0, 0, 0, 0, 0, 0, 0, 0, 0, 0, 0, 0, 0, 0, 0, 0, 0, 0, 0, 0, 0, 0, 0, 0, 0, 0, 1, 0, 0, 0, 0, 0, 0, 0, 0, 0, 0, 0, 0, 0, 0, 0, 0, 0, 0, 0, 0, 0, 0, 0, 0, 0, 0, 0, 0, 0, 0, 0, 0, 0, 0, 0, 0, 0, 0, 0, 0, 0, 0, 0, 0, 0, 0, 0, 0, 0, 1, 0, 0, 0, 0, 0, 0, 0, 0, 0, 0, 0, 0, 0, 0, 0, 0, 0, 0, 0, 0, 0, 0, 0, 0, 0, 0, 0, 0, 0, 0, 0, 0, 0, 0, 0, 0, 0, 0, 0, 0, 0, 0, 0, 0, 0, 0, 0, 0, 0, 0, 0, 0, 0, 0, 0, 1, 0, 0, 0, 0, 0, 0, 0, 0, 0, 0, 0, 0, 0, 0, 0, 0, 0, 0, 0, 0, 0, 0, 0, 0, 0, 0, 0, 0, 0, 0, 0]\n"
     ]
    }
   ],
   "source": [
    "def clean_review(review):\n",
    "\n",
    "    review = review.lower()\n",
    "    review = re.sub('[^A-Za-z0-9 ]+', \"\", review)\n",
    "    review = re.sub(' +', \" \", review)\n",
    "    return review.split(\" \")\n",
    "\n",
    "def create_vector(review):\n",
    "\n",
    "    list = clean_review(review)\n",
    "\n",
    "    result = []\n",
    "\n",
    "    for w in keywords:\n",
    "        result.append(list.count(w))\n",
    "    \n",
    "    return result\n",
    "\n",
    "\n",
    "vectors = []\n",
    "\n",
    "for r in reviews_data:\n",
    "    vectors.append(create_vector(r))\n",
    "\n",
    "print(vectors[20])\n",
    "\n",
    "file = open('result.csv',\"w+\",newline=\"\")\n",
    "with file:\n",
    "    write = csv.writer(file)\n",
    "    write.writerows(vectors)\n"
   ]
  }
 ],
 "metadata": {
  "kernelspec": {
   "display_name": "Python 3",
   "language": "python",
   "name": "python3"
  },
  "language_info": {
   "codemirror_mode": {
    "name": "ipython",
    "version": 3
   },
   "file_extension": ".py",
   "mimetype": "text/x-python",
   "name": "python",
   "nbconvert_exporter": "python",
   "pygments_lexer": "ipython3",
   "version": "3.10.9"
  },
  "orig_nbformat": 4,
  "vscode": {
   "interpreter": {
    "hash": "ba607cf910366f184c99f201f861b8487b5ac461a3c0857f7b17fa2127570994"
   }
  }
 },
 "nbformat": 4,
 "nbformat_minor": 2
}
